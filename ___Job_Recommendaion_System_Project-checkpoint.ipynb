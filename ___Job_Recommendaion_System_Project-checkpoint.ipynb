{
 "cells": [
  {
   "cell_type": "markdown",
   "id": "107c26d4",
   "metadata": {},
   "source": [
    "### Job Recommendaion System Project Using cosine_similarity"
   ]
  },
  {
   "cell_type": "markdown",
   "id": "04378a94",
   "metadata": {},
   "source": [
    "This project focuses on developing a job recommendation system using the TfidfVectorizer and cosine similarity methods. The provided code imports necessary libraries such as pandas, nltk, and sklearn for data preprocessing and analysis. The project's goal is to recommend similar jobs based on job descriptions and titles.\n",
    "\n",
    "The code begins by reading in a dataset from a CSV file titled 'Combined_Jobs_Final.csv.zip'. The dataset contains various columns such as Job.ID, Provider, Status, Slug, Title, Position, Company, City, State, Industry, Job.Description, Requirements, Salary, Employment.Type, Education.Required, Created.At, and Updated.At.\n",
    "\n",
    "From the original dataset, the code selects only the 'Title' and 'Job.Description' columns, which are crucial for the recommendation system.\n",
    "\n",
    "To build the recommendation system, the following steps are likely performed:\n",
    "\n",
    "1. Text Preprocessing: The job descriptions and titles undergo preprocessing to eliminate unnecessary characters, convert text to lowercase, and tokenize the text into individual words. The nltk library is used for this purpose.\n",
    "2. Stopword Removal: Common English stop words are removed from the text to exclude words with low semantic value.\n",
    "3. Stemming: The words are stemmed using the SnowballStemmer from the nltk library, reducing them to their root form.\n",
    "4. TF-IDF Vectorization: The TfidfVectorizer from the sklearn library is applied to convert the preprocessed text into numerical vectors. This process captures the importance of each word in every job description and title relative to the entire dataset.\n",
    "5. Cosine Similarity: The cosine_similarity function from the sklearn library computes the similarity between every pair of job descriptions and titles. This similarity score indicates how closely related two jobs are based on their text.\n",
    "\n",
    "The resulting job recommendation system suggests similar jobs based on the text similarity between job descriptions and titles. By leveraging the TF-IDF vectors and cosine similarity scores, the system identifies jobs that share similar characteristics and profiles.\n",
    "\n",
    "This job recommender system provides valuable insights to users seeking similar job opportunities based on job titles and descriptions."
   ]
  },
  {
   "cell_type": "code",
   "execution_count": 1,
   "id": "5f51e640",
   "metadata": {},
   "outputs": [],
   "source": [
    "import pandas as pd\n",
    "import nltk\n",
    "from nltk.corpus import stopwords\n",
    "from nltk.tokenize import word_tokenize\n",
    "import re\n",
    "import pandas as pd\n",
    "import numpy as np\n",
    "import re\n",
    "import nltk\n",
    "from nltk.stem import SnowballStemmer\n",
    "from nltk.tokenize import word_tokenize\n",
    "from nltk.corpus import stopwords\n",
    "from sklearn.feature_extraction.text import TfidfVectorizer\n",
    "from sklearn.metrics.pairwise import cosine_similarity\n",
    "import warnings\n",
    "warnings.filterwarnings('ignore')"
   ]
  },
  {
   "cell_type": "code",
   "execution_count": 3,
   "id": "27e04c1b",
   "metadata": {},
   "outputs": [],
   "source": [
    "df = pd.read_csv('Combined_Jobs_Final.csv.zip')"
   ]
  },
  {
   "cell_type": "code",
   "execution_count": 6,
   "id": "8d7dc456",
   "metadata": {},
   "outputs": [
    {
     "data": {
      "text/html": [
       "<div>\n",
       "<style scoped>\n",
       "    .dataframe tbody tr th:only-of-type {\n",
       "        vertical-align: middle;\n",
       "    }\n",
       "\n",
       "    .dataframe tbody tr th {\n",
       "        vertical-align: top;\n",
       "    }\n",
       "\n",
       "    .dataframe thead th {\n",
       "        text-align: right;\n",
       "    }\n",
       "</style>\n",
       "<table border=\"1\" class=\"dataframe\">\n",
       "  <thead>\n",
       "    <tr style=\"text-align: right;\">\n",
       "      <th></th>\n",
       "      <th>Job.ID</th>\n",
       "      <th>Provider</th>\n",
       "      <th>Status</th>\n",
       "      <th>Slug</th>\n",
       "      <th>Title</th>\n",
       "      <th>Position</th>\n",
       "      <th>Company</th>\n",
       "      <th>City</th>\n",
       "      <th>State.Name</th>\n",
       "      <th>State.Code</th>\n",
       "      <th>...</th>\n",
       "      <th>Industry</th>\n",
       "      <th>Job.Description</th>\n",
       "      <th>Requirements</th>\n",
       "      <th>Salary</th>\n",
       "      <th>Listing.Start</th>\n",
       "      <th>Listing.End</th>\n",
       "      <th>Employment.Type</th>\n",
       "      <th>Education.Required</th>\n",
       "      <th>Created.At</th>\n",
       "      <th>Updated.At</th>\n",
       "    </tr>\n",
       "  </thead>\n",
       "  <tbody>\n",
       "    <tr>\n",
       "      <th>0</th>\n",
       "      <td>111</td>\n",
       "      <td>1</td>\n",
       "      <td>open</td>\n",
       "      <td>palo-alto-ca-tacolicious-server</td>\n",
       "      <td>Server @ Tacolicious</td>\n",
       "      <td>Server</td>\n",
       "      <td>Tacolicious</td>\n",
       "      <td>Palo Alto</td>\n",
       "      <td>California</td>\n",
       "      <td>CA</td>\n",
       "      <td>...</td>\n",
       "      <td>Food and Beverages</td>\n",
       "      <td>Tacolicious' first Palo Alto store just opened...</td>\n",
       "      <td>NaN</td>\n",
       "      <td>8.00</td>\n",
       "      <td>NaN</td>\n",
       "      <td>NaN</td>\n",
       "      <td>Part-Time</td>\n",
       "      <td>NaN</td>\n",
       "      <td>2013-03-12 02:08:28 UTC</td>\n",
       "      <td>2014-08-16 15:35:36 UTC</td>\n",
       "    </tr>\n",
       "    <tr>\n",
       "      <th>1</th>\n",
       "      <td>113</td>\n",
       "      <td>1</td>\n",
       "      <td>open</td>\n",
       "      <td>san-francisco-ca-claude-lane-kitchen-staff-chef</td>\n",
       "      <td>Kitchen Staff/Chef @ Claude Lane</td>\n",
       "      <td>Kitchen Staff/Chef</td>\n",
       "      <td>Claude Lane</td>\n",
       "      <td>San Francisco</td>\n",
       "      <td>California</td>\n",
       "      <td>CA</td>\n",
       "      <td>...</td>\n",
       "      <td>Food and Beverages</td>\n",
       "      <td>\\r\\n\\r\\nNew French Brasserie in S.F. Financia...</td>\n",
       "      <td>NaN</td>\n",
       "      <td>0.00</td>\n",
       "      <td>NaN</td>\n",
       "      <td>NaN</td>\n",
       "      <td>Part-Time</td>\n",
       "      <td>NaN</td>\n",
       "      <td>2013-04-12 08:36:36 UTC</td>\n",
       "      <td>2014-08-16 15:35:36 UTC</td>\n",
       "    </tr>\n",
       "    <tr>\n",
       "      <th>2</th>\n",
       "      <td>117</td>\n",
       "      <td>1</td>\n",
       "      <td>open</td>\n",
       "      <td>san-francisco-ca-machka-restaurants-corp-barte...</td>\n",
       "      <td>Bartender @ Machka Restaurants Corp.</td>\n",
       "      <td>Bartender</td>\n",
       "      <td>Machka Restaurants Corp.</td>\n",
       "      <td>San Francisco</td>\n",
       "      <td>California</td>\n",
       "      <td>CA</td>\n",
       "      <td>...</td>\n",
       "      <td>Food and Beverages</td>\n",
       "      <td>We are a popular Mediterranean wine bar and re...</td>\n",
       "      <td>NaN</td>\n",
       "      <td>11.00</td>\n",
       "      <td>NaN</td>\n",
       "      <td>NaN</td>\n",
       "      <td>Part-Time</td>\n",
       "      <td>NaN</td>\n",
       "      <td>2013-07-16 09:34:10 UTC</td>\n",
       "      <td>2014-08-16 15:35:37 UTC</td>\n",
       "    </tr>\n",
       "    <tr>\n",
       "      <th>3</th>\n",
       "      <td>121</td>\n",
       "      <td>1</td>\n",
       "      <td>open</td>\n",
       "      <td>brisbane-ca-teriyaki-house-server</td>\n",
       "      <td>Server @ Teriyaki House</td>\n",
       "      <td>Server</td>\n",
       "      <td>Teriyaki House</td>\n",
       "      <td>Brisbane</td>\n",
       "      <td>California</td>\n",
       "      <td>CA</td>\n",
       "      <td>...</td>\n",
       "      <td>Food and Beverages</td>\n",
       "      <td>● Serve food/drinks to customers in a profess...</td>\n",
       "      <td>NaN</td>\n",
       "      <td>10.55</td>\n",
       "      <td>NaN</td>\n",
       "      <td>NaN</td>\n",
       "      <td>Part-Time</td>\n",
       "      <td>NaN</td>\n",
       "      <td>2013-09-04 15:40:30 UTC</td>\n",
       "      <td>2014-08-16 15:35:38 UTC</td>\n",
       "    </tr>\n",
       "    <tr>\n",
       "      <th>4</th>\n",
       "      <td>127</td>\n",
       "      <td>1</td>\n",
       "      <td>open</td>\n",
       "      <td>los-angeles-ca-rosa-mexicano-sunset-kitchen-st...</td>\n",
       "      <td>Kitchen Staff/Chef @ Rosa Mexicano - Sunset</td>\n",
       "      <td>Kitchen Staff/Chef</td>\n",
       "      <td>Rosa Mexicano - Sunset</td>\n",
       "      <td>Los Angeles</td>\n",
       "      <td>California</td>\n",
       "      <td>CA</td>\n",
       "      <td>...</td>\n",
       "      <td>Food and Beverages</td>\n",
       "      <td>Located at the heart of Hollywood, we are one ...</td>\n",
       "      <td>NaN</td>\n",
       "      <td>10.55</td>\n",
       "      <td>NaN</td>\n",
       "      <td>NaN</td>\n",
       "      <td>Part-Time</td>\n",
       "      <td>NaN</td>\n",
       "      <td>2013-07-17 15:26:18 UTC</td>\n",
       "      <td>2014-08-16 15:35:40 UTC</td>\n",
       "    </tr>\n",
       "  </tbody>\n",
       "</table>\n",
       "<p>5 rows × 23 columns</p>\n",
       "</div>"
      ],
      "text/plain": [
       "   Job.ID  Provider Status                                               Slug  \\\n",
       "0     111         1   open                    palo-alto-ca-tacolicious-server   \n",
       "1     113         1   open    san-francisco-ca-claude-lane-kitchen-staff-chef   \n",
       "2     117         1   open  san-francisco-ca-machka-restaurants-corp-barte...   \n",
       "3     121         1   open                  brisbane-ca-teriyaki-house-server   \n",
       "4     127         1   open  los-angeles-ca-rosa-mexicano-sunset-kitchen-st...   \n",
       "\n",
       "                                         Title            Position  \\\n",
       "0                         Server @ Tacolicious              Server   \n",
       "1             Kitchen Staff/Chef @ Claude Lane  Kitchen Staff/Chef   \n",
       "2         Bartender @ Machka Restaurants Corp.           Bartender   \n",
       "3                      Server @ Teriyaki House              Server   \n",
       "4  Kitchen Staff/Chef @ Rosa Mexicano - Sunset  Kitchen Staff/Chef   \n",
       "\n",
       "                    Company           City  State.Name State.Code  ...  \\\n",
       "0               Tacolicious      Palo Alto  California         CA  ...   \n",
       "1               Claude Lane  San Francisco  California         CA  ...   \n",
       "2  Machka Restaurants Corp.  San Francisco  California         CA  ...   \n",
       "3            Teriyaki House       Brisbane  California         CA  ...   \n",
       "4    Rosa Mexicano - Sunset    Los Angeles  California         CA  ...   \n",
       "\n",
       "             Industry                                    Job.Description  \\\n",
       "0  Food and Beverages  Tacolicious' first Palo Alto store just opened...   \n",
       "1  Food and Beverages   \\r\\n\\r\\nNew French Brasserie in S.F. Financia...   \n",
       "2  Food and Beverages  We are a popular Mediterranean wine bar and re...   \n",
       "3  Food and Beverages   ● Serve food/drinks to customers in a profess...   \n",
       "4  Food and Beverages  Located at the heart of Hollywood, we are one ...   \n",
       "\n",
       "   Requirements Salary Listing.Start  Listing.End  Employment.Type  \\\n",
       "0           NaN   8.00           NaN          NaN        Part-Time   \n",
       "1           NaN   0.00           NaN          NaN        Part-Time   \n",
       "2           NaN  11.00           NaN          NaN        Part-Time   \n",
       "3           NaN  10.55           NaN          NaN        Part-Time   \n",
       "4           NaN  10.55           NaN          NaN        Part-Time   \n",
       "\n",
       "  Education.Required               Created.At               Updated.At  \n",
       "0                NaN  2013-03-12 02:08:28 UTC  2014-08-16 15:35:36 UTC  \n",
       "1                NaN  2013-04-12 08:36:36 UTC  2014-08-16 15:35:36 UTC  \n",
       "2                NaN  2013-07-16 09:34:10 UTC  2014-08-16 15:35:37 UTC  \n",
       "3                NaN  2013-09-04 15:40:30 UTC  2014-08-16 15:35:38 UTC  \n",
       "4                NaN  2013-07-17 15:26:18 UTC  2014-08-16 15:35:40 UTC  \n",
       "\n",
       "[5 rows x 23 columns]"
      ]
     },
     "execution_count": 6,
     "metadata": {},
     "output_type": "execute_result"
    }
   ],
   "source": [
    "df.head()"
   ]
  },
  {
   "cell_type": "code",
   "execution_count": 3,
   "id": "35d61e30",
   "metadata": {},
   "outputs": [
    {
     "data": {
      "text/plain": [
       "Index(['Job.ID', 'Provider', 'Status', 'Slug', 'Title', 'Position', 'Company',\n",
       "       'City', 'State.Name', 'State.Code', 'Address', 'Latitude', 'Longitude',\n",
       "       'Industry', 'Job.Description', 'Requirements', 'Salary',\n",
       "       'Listing.Start', 'Listing.End', 'Employment.Type', 'Education.Required',\n",
       "       'Created.At', 'Updated.At'],\n",
       "      dtype='object')"
      ]
     },
     "execution_count": 3,
     "metadata": {},
     "output_type": "execute_result"
    }
   ],
   "source": [
    "df.columns"
   ]
  },
  {
   "cell_type": "code",
   "execution_count": 29,
   "id": "a936c04a",
   "metadata": {},
   "outputs": [],
   "source": [
    "df = df[['Title','Job.Description']]"
   ]
  },
  {
   "cell_type": "code",
   "execution_count": 30,
   "id": "6f031b06",
   "metadata": {},
   "outputs": [
    {
     "data": {
      "text/plain": [
       "Index(['Title', 'Job.Description'], dtype='object')"
      ]
     },
     "execution_count": 30,
     "metadata": {},
     "output_type": "execute_result"
    }
   ],
   "source": [
    "df.columns"
   ]
  },
  {
   "cell_type": "code",
   "execution_count": 31,
   "id": "de32242b",
   "metadata": {},
   "outputs": [
    {
     "data": {
      "text/plain": [
       "Title              0\n",
       "Job.Description    0\n",
       "dtype: int64"
      ]
     },
     "execution_count": 31,
     "metadata": {},
     "output_type": "execute_result"
    }
   ],
   "source": [
    "df.isnull().sum()"
   ]
  },
  {
   "cell_type": "code",
   "execution_count": 32,
   "id": "97be4c74",
   "metadata": {},
   "outputs": [
    {
     "data": {
      "text/plain": [
       "73"
      ]
     },
     "execution_count": 32,
     "metadata": {},
     "output_type": "execute_result"
    }
   ],
   "source": [
    "df.duplicated().sum()"
   ]
  },
  {
   "cell_type": "code",
   "execution_count": 33,
   "id": "3196be87",
   "metadata": {},
   "outputs": [],
   "source": [
    "df.drop_duplicates(inplace=True)"
   ]
  },
  {
   "cell_type": "code",
   "execution_count": 34,
   "id": "17d33c23",
   "metadata": {},
   "outputs": [
    {
     "data": {
      "text/plain": [
       "0"
      ]
     },
     "execution_count": 34,
     "metadata": {},
     "output_type": "execute_result"
    }
   ],
   "source": [
    "df.duplicated().sum()"
   ]
  },
  {
   "cell_type": "code",
   "execution_count": 5,
   "id": "95e5efbb",
   "metadata": {},
   "outputs": [],
   "source": [
    "df = df.sample(n=1000, random_state=42)  # Randomly sample 1000 rows from the dataframe 'df'"
   ]
  },
  {
   "cell_type": "code",
   "execution_count": 6,
   "id": "94b50235",
   "metadata": {},
   "outputs": [],
   "source": [
    "import nltk\n",
    "from nltk.stem import PorterStemmer\n",
    "from nltk.corpus import stopwords\n",
    "import re"
   ]
  },
  {
   "cell_type": "code",
   "execution_count": 7,
   "id": "e38d541e",
   "metadata": {},
   "outputs": [],
   "source": [
    "ps = PorterStemmer()"
   ]
  },
  {
   "cell_type": "code",
   "execution_count": 8,
   "id": "c3de182d",
   "metadata": {},
   "outputs": [],
   "source": [
    "def cleaning(txt):\n",
    "    cleaned_txt = re.sub(r'[^a-zA-Z0-9\\s)]', '', txt)  # Removing all non-alphanumeric characters except spaces and parentheses\n",
    "    tokens = nltk.word_tokenize(cleaned_txt.lower())  # Tokenizing the cleaned text and converting to lowercase\n",
    "    steaming = [ps.stem(word) for word in tokens if word not in stopwords.words('english')]  # Applying stemming and removing stopwords\n",
    "    return ' '.join(steaming)  # Returning the cleaned and processed text as a single string"
   ]
  },
  {
   "cell_type": "code",
   "execution_count": 9,
   "id": "bb90cc67",
   "metadata": {},
   "outputs": [
    {
     "data": {
      "text/plain": [
       "'adkjaki type 3daaddi'"
      ]
     },
     "execution_count": 9,
     "metadata": {},
     "output_type": "execute_result"
    }
   ],
   "source": [
    "cleaning('AdkjAKie am not typing in 3daAddi')"
   ]
  },
  {
   "cell_type": "code",
   "execution_count": 10,
   "id": "043868f6",
   "metadata": {},
   "outputs": [],
   "source": [
    "# Applying the 'cleaning' function to clean the 'Title' column in the dataframe\n",
    "df['Title'] = df['Title'].apply(lambda x: cleaning(x))\n",
    "\n",
    "# Converting the 'Job.Description' column to string and applying the 'cleaning' function to clean it\n",
    "df['Job.Description'] = df['Job.Description'].astype(str).apply(lambda x: cleaning(x))"
   ]
  },
  {
   "cell_type": "code",
   "execution_count": 11,
   "id": "aaa90ba0",
   "metadata": {},
   "outputs": [],
   "source": [
    "# Creating a new column 'new_col' by concatenating 'Title' and 'Job.Description' columns\n",
    "df['new_col'] = df['Title'] + ' ' + df['Job.Description']\n"
   ]
  },
  {
   "cell_type": "code",
   "execution_count": 12,
   "id": "64cd7792",
   "metadata": {},
   "outputs": [],
   "source": [
    "# Importing the required modules from Scikit-learn\n",
    "from sklearn.feature_extraction.text import TfidfVectorizer\n",
    "from sklearn.metrics.pairwise import cosine_similarity\n"
   ]
  },
  {
   "cell_type": "code",
   "execution_count": 13,
   "id": "502bd623",
   "metadata": {},
   "outputs": [],
   "source": [
    "# Creating an instance of the TfidfVectorizer class\n",
    "tfidf = TfidfVectorizer()\n",
    "\n",
    "# Creating a matrix of TF-IDF features for the 'new_col' column in the dataframe\n",
    "matrix = tfidf.fit_transform(df['new_col'])\n",
    "\n",
    "# Computing the cosine similarity matrix for the TF-IDF features\n",
    "similarity = cosine_similarity(matrix)\n"
   ]
  },
  {
   "cell_type": "code",
   "execution_count": 14,
   "id": "a8bddd1c",
   "metadata": {},
   "outputs": [
    {
     "data": {
      "text/plain": [
       "array([[1.        , 0.04041144, 0.02581255, ..., 0.05811792, 0.02554883,\n",
       "        0.08444829],\n",
       "       [0.04041144, 1.        , 0.0265957 , ..., 0.03222878, 0.00517218,\n",
       "        0.0235714 ],\n",
       "       [0.02581255, 0.0265957 , 1.        , ..., 0.05838795, 0.03162502,\n",
       "        0.03912519],\n",
       "       ...,\n",
       "       [0.05811792, 0.03222878, 0.05838795, ..., 1.        , 0.06390824,\n",
       "        0.11548323],\n",
       "       [0.02554883, 0.00517218, 0.03162502, ..., 0.06390824, 1.        ,\n",
       "        0.38454495],\n",
       "       [0.08444829, 0.0235714 , 0.03912519, ..., 0.11548323, 0.38454495,\n",
       "        1.        ]])"
      ]
     },
     "execution_count": 14,
     "metadata": {},
     "output_type": "execute_result"
    }
   ],
   "source": [
    "similarity"
   ]
  },
  {
   "cell_type": "code",
   "execution_count": 23,
   "id": "2e55b422",
   "metadata": {},
   "outputs": [],
   "source": [
    "# Function to generate job recommendations\n",
    "def recommendation(title):\n",
    "    idx = df[df['Title'] == title].index[0]  # Find the index of the job title in the dataframe\n",
    "    idx = df.index.get_loc(idx)  # Get the actual index location in the dataframe\n",
    "    distances = sorted(list(enumerate(similarity[idx])), key=lambda x: x[1], reverse=True)[1:21]  # Calculate cosine similarity with other job titles\n",
    "    \n",
    "    jobs = []  # List to store the recommended job titles\n",
    "    for i in distances:\n",
    "        jobs.append(df.iloc[i[0]].Title)  # Get the titles of the similar jobs\n",
    "        \n",
    "    return jobs"
   ]
  },
  {
   "cell_type": "code",
   "execution_count": 16,
   "id": "fbf8602e",
   "metadata": {},
   "outputs": [
    {
     "data": {
      "text/plain": [
       "64119                       site director knowledg univers\n",
       "35827                          administr assist officeteam\n",
       "72100                     account manag chi payment system\n",
       "46355    outsid wholesal sale rep parttim ) river front...\n",
       "34166    custom servic rep help peopl hear loss captioncal\n",
       "                               ...                        \n",
       "66282    sale repres sale associ entri level ) vector m...\n",
       "39515                             staff account accountemp\n",
       "69231                    unarm secur offic us secur associ\n",
       "69618              line cook crown plaza independ own oper\n",
       "6144     kitchen manag job detail artesian hotel casino...\n",
       "Name: Title, Length: 1000, dtype: object"
      ]
     },
     "execution_count": 16,
     "metadata": {},
     "output_type": "execute_result"
    }
   ],
   "source": [
    "df['Title']"
   ]
  },
  {
   "cell_type": "code",
   "execution_count": 21,
   "id": "c22cd04a",
   "metadata": {},
   "outputs": [],
   "source": []
  },
  {
   "cell_type": "markdown",
   "id": "c7db1546",
   "metadata": {},
   "source": [
    "### Top 20 recommendation jobs"
   ]
  },
  {
   "cell_type": "code",
   "execution_count": 24,
   "id": "28681e52",
   "metadata": {},
   "outputs": [
    {
     "data": {
      "text/plain": [
       "['administr assist officeteam',\n",
       " 'administr assist officeteam',\n",
       " 'administr assist officeteam',\n",
       " 'administr assist nonprofit officeteam',\n",
       " 'administr assist officeteam',\n",
       " 'administr assist officeteam',\n",
       " 'administr assist officeteam',\n",
       " 'seek colleg graduat amaz opportuni officeteam',\n",
       " 'administr assist officeteam',\n",
       " 'offic manag accountemp',\n",
       " 'administr assist officeteam',\n",
       " 'front desk coordin reput financ organ officeteam',\n",
       " 'administr assist officeteam',\n",
       " 'front desk coordin officeteam',\n",
       " 'part time organiz guru officeteam',\n",
       " 'administr assist long term potenti officeteam',\n",
       " 'benefit administr long term contract accountemp',\n",
       " 'administr assist officeteam',\n",
       " 'temporari administr assist need asap officeteam',\n",
       " 'season wed sale stylist david bridal']"
      ]
     },
     "execution_count": 24,
     "metadata": {},
     "output_type": "execute_result"
    }
   ],
   "source": [
    "recommendation('administr assist officeteam')"
   ]
  },
  {
   "cell_type": "code",
   "execution_count": null,
   "id": "d25f6125",
   "metadata": {},
   "outputs": [],
   "source": [
    "import pickle\n"
   ]
  },
  {
   "cell_type": "code",
   "execution_count": null,
   "id": "c5ef8f4e",
   "metadata": {},
   "outputs": [],
   "source": [
    "# # Save df in the desired directory\n",
    "# pickle.dump(df, open('C:\\\\Users\\\\mrpai\\\\OneDrive\\\\Desktop\\\\df8.pkl', 'wb'))\n",
    "\n",
    "# # Save similarity in the desired directory\n",
    "# pickle.dump(similarity, open('C:\\\\Users\\\\mrpai\\\\OneDrive\\\\Desktop\\\\similarity8.pkl', 'wb'))"
   ]
  },
  {
   "cell_type": "code",
   "execution_count": null,
   "id": "c0f41b57",
   "metadata": {},
   "outputs": [],
   "source": []
  }
 ],
 "metadata": {
  "kernelspec": {
   "display_name": "Python 3 (ipykernel)",
   "language": "python",
   "name": "python3"
  },
  "language_info": {
   "codemirror_mode": {
    "name": "ipython",
    "version": 3
   },
   "file_extension": ".py",
   "mimetype": "text/x-python",
   "name": "python",
   "nbconvert_exporter": "python",
   "pygments_lexer": "ipython3",
   "version": "3.11.4"
  }
 },
 "nbformat": 4,
 "nbformat_minor": 5
}
